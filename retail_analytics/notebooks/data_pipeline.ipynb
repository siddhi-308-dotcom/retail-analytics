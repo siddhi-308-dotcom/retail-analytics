{
 "cells": [
  {
   "cell_type": "markdown",
   "id": "696f64e6-8d85-4242-ac25-67a41cb6186e",
   "metadata": {},
   "source": [
    "# Retail Stockout Analytics Notebook\n",
    "This notebook demonstrates the data lifecycle: capture, processing, visualization."
   ]
  },
  {
   "cell_type": "code",
   "execution_count": null,
   "id": "fda83f49-0e85-415f-a106-a6fb27bb8994",
   "metadata": {},
   "outputs": [],
   "source": [
    "import pandas as pd\n",
    "\n",
    "import matplotlib.pyplot as plt\n",
    "\n",
    "\n",
    "\n",
    "df = pd.read_csv('../data/sales_data.csv')\n",
    "\n",
    "df.head()\n",
    "data_pipeline.ipynb"
   ]
  }
 ],
 "metadata": {
  "kernelspec": {
   "display_name": "python-starter",
   "language": "python",
   "name": "conda-env-python-starter"
  },
  "language_info": {
   "codemirror_mode": {
    "name": "ipython",
    "version": 3
   },
   "file_extension": ".py",
   "mimetype": "text/x-python",
   "name": "python",
   "nbconvert_exporter": "python",
   "pygments_lexer": "ipython3",
   "version": "3.11.13"
  }
 },
 "nbformat": 4,
 "nbformat_minor": 5
}
